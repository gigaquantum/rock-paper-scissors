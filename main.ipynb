{
 "cells": [
  {
   "cell_type": "markdown",
   "id": "294fba93",
   "metadata": {},
   "source": [
    "Where the full program is put together and runs"
   ]
  },
  {
   "cell_type": "code",
   "execution_count": null,
   "id": "a635b53c",
   "metadata": {},
   "outputs": [],
   "source": [
    "# Here is where the code goes\n",
    "\n",
    "# Game data stored as a list of tournaments, with each tournament being a list of dictionaries that contain the user choice, AI choice, and winner of the match\n",
    "\n",
    "# For example:\n",
    "# data = [\n",
    "#     [\n",
    "#         {\"playerMove\": \"rock\", \"aiMove\": \"paper\", \"winner\": \"ai\"},\n",
    "#         {\"playerMove\": \"scissors\", \"aiMove\": \"paper\", \"winner\": \"player\"},\n",
    "#         {\"playerMove\": \"scissors\", \"aiMove\": \"scissors\", \"winner\": \"none\"},\n",
    "#     ],\n",
    "#     [\n",
    "#         {\"playerMove\": \"scissors\", \"aiMove\": \"rock\", \"winner\": \"ai\"},\n",
    "#         {\"playerMove\": \"scissors\", \"aiMove\": \"paper\", \"winner\": \"player\"},\n",
    "#         {\"playerMove\": \"rock\", \"aiMove\": \"scissors\", \"winner\": \"player\"},\n",
    "#     ],\n",
    "# ]\n"
   ]
  }
 ],
 "metadata": {
  "kernelspec": {
   "display_name": "Python 3",
   "language": "python",
   "name": "python3"
  },
  "language_info": {
   "name": "python",
   "version": "3.13.7"
  }
 },
 "nbformat": 4,
 "nbformat_minor": 5
}
