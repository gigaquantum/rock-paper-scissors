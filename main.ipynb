{
 "cells": [
  {
   "cell_type": "markdown",
   "id": "294fba93",
   "metadata": {},
   "source": [
    "Where the full program is put together and runs"
   ]
  },
  {
   "cell_type": "code",
   "execution_count": null,
   "id": "a635b53c",
   "metadata": {},
   "outputs": [],
   "source": [
    "# Here is where the code goes\n",
    "\n",
    "# Game data stored as a list of tournaments, with each tournament being a list of dictionaries that contain the user choice, AI choice, and winner of the match\n",
    "\n",
    "# For example:\n",
    "data = [\n",
    "    [\n",
    "        {\"player_move\": \"rock\", \"ai_move\": \"paper\", \"winner\": \"ai\"},\n",
    "        {\"player_move\": \"scissors\", \"ai_move\": \"paper\", \"winner\": \"player\"},\n",
    "        {\"player_move\": \"scissors\", \"ai_move\": \"scissors\", \"winner\": \"none\"},\n",
    "    ],\n",
    "    [\n",
    "        {\"player_move\": \"scissors\", \"ai_move\": \"rock\", \"winner\": \"ai\"},\n",
    "        {\"player_move\": \"scissors\", \"ai_move\": \"paper\", \"winner\": \"player\"},\n",
    "        {\"player_move\": \"rock\", \"ai_move\": \"scissors\", \"winner\": \"player\"},\n",
    "    ],\n",
    "]\n"
   ]
  }
 ],
 "metadata": {
  "language_info": {
   "name": "python"
  }
 },
 "nbformat": 4,
 "nbformat_minor": 5
}
