{
 "cells": [
  {
   "cell_type": "markdown",
   "id": "294fba93",
   "metadata": {},
   "source": [
    "Where the full program is put together and runs"
   ]
  },
  {
   "cell_type": "code",
   "execution_count": null,
   "id": "a635b53c",
   "metadata": {},
   "outputs": [],
   "source": [
    "from menu import menu\n",
    "from tournamentSystem import playSeries\n",
    "\n",
    "continuePlaying = True\n",
    "\n",
    "while continuePlaying:\n",
    "    continuePlaying = playSeries(*menu())\n"
   ]
  }
 ],
 "metadata": {
  "kernelspec": {
   "display_name": "Python 3",
   "language": "python",
   "name": "python3"
  },
  "language_info": {
   "name": "python",
   "version": "3.13.7"
  }
 },
 "nbformat": 4,
 "nbformat_minor": 5
}
