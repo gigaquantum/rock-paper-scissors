{
 "cells": [
  {
   "cell_type": "markdown",
   "id": "294fba93",
   "metadata": {},
   "source": [
    "Where the full program is put together and runs"
   ]
  },
  {
   "cell_type": "code",
   "execution_count": 2,
   "id": "a635b53c",
   "metadata": {},
   "outputs": [
    {
     "name": "stdout",
     "output_type": "stream",
     "text": [
      "\n",
      "                          ÕZo¿nZZN                                         \n",
      "             ëÕNëZÕN     N¦› ›  › ›¿N     ë2¦¦››¿Õ NN¿››¦Õ ëZ¿¿oëë         \n",
      "        ÕëZn›› › › ›N  ëÕ› › › › › › Õë2› › › › ›¦ZZ2 › ›eZe›  › ¿         \n",
      "      Zë¿› ›  › › › Z ZN› › › › › › ›oÆ ›  › › n››Õe¦ › ›¦¿› › ›¦N         \n",
      "      Në  › ›¿2o ››oN e¦› ›  eÕZ › › Æë › › ››oZëNZ2› ›  › › › ›Õ          \n",
      "      ëo› › ë Ze ›››ÆZë› › ›onëZ ›  ›Në › ››NÕÕ   eZ›  › ›  › ››N          \n",
      "     Õe›› › ›  › › ›¦NN› › ››22 › › ›ÕÆ› ›  oon¦ › o¦› › › › ›  ¦Õ         \n",
      "     Ne› › › › ›  › ››Në› ›   ›  › ›ÆÆe¦ › › › › › ›2› › 2ë2› › ›¿         \n",
      "     Õe¿ ›  ››Z2› ›  › ÕZZ¿ › › ›››2  eÕ› › › › › ››¦ › ›ZÆë›› › ›N        \n",
      "      ëZ› ›  ¦Õëë› › › ›e NeÕe› ››ë   N2N› › › › ›2Æe¿›››Õ ëZ›  ¿¿›        \n",
      "      NÕ› › ››Æ ëëNëZÕ2       2ë›      ëëëëëëëëZNN          NZeÕÕÕn        \n",
      "      e2ëÕ                     ¿neëÕÕNëZ22ëëZeZN                           \n",
      "        ë      2NÆÆÆÆÆÆÆë                                   ›¦¿ooo¦›¿2Õë   \n",
      "        ¦    ›ÆÕ¦ë      NÆ ¦ÆÆ   ¦ÕÆÆÆÆZ            ÕÆÆÆÆÆÕ          2ë    \n",
      "       Õ        ZÕ     2ÆneÆëÆn   2Õ   ÆÆ ZZeee¦   2Æ    nÆe        Z      \n",
      "      Z        ¿ÆZoÕÆÆë  NÕ eÆ2  ›Æo›ÆÆÆ¿Æ2  ¦nZëe Æo   ëÆÆ        N       \n",
      "      Õ        ÆÆ      2ÆÆëëÕÆN ¿ÆÆÆÆë¦ NÆ        ÆÆÆÆÆÆÆ¦        Õ        \n",
      "      ¿       nÆe     ÆÆ    oÆÕ ¦Æë    ÕÆëÕNÕ    2ÆZëÕÆÆÆ›       Z         \n",
      "     e        ÆÆ    oÆN     ›ÆN ëÆ    ZÆ›       ›ÆN   2ÆÆÆn     ¿          \n",
      "     Z       ëÆe    ëZ       ÆÕ e2    ¿ÕÆÆÆÆÆÆo ÆÆ     ›ÆÆÆ2    Õ          \n",
      "     Õ       ÆÕ                                ›Æn       ›     N           \n",
      "     Z¦¦¿ZÆÆ¿¿¿¦¦¦›››                   ¿ ¿›   ¿¿¦         ¿¿¿2Æ       ÆÕÆÆ\n",
      "      ÆonZÆÆ      ÆÆ2   ÆÆÆ      ÆÆëZn2noÆÆo   no¦¿Õ  Õe¿¦¦¦¦¦¦¦2   Nn¦oÆÆ \n",
      "    Õ¿¦oÆÆ      ÕnÆÆ    2oN  ÆZoZÆ No¦nÆÆ    Æ2¦¦¦¦¦oNZÕo¦¦o2¦¦¦ZÆÕ¿¦¦nNÆN \n",
      "  No¦¦ÆN      ë2¦eÆ    Æ¿¦Æ e¦eÆÆ Õ¦¦¦ë     Æ¿¦nÆNÆ¦¦ëÆÆ¿¦ZNÆ¿¦nÆn¦¦nÆÆ    \n",
      " ë¿¦oÆZ      Õo¦ÕÆ     Æ¦¦Æ2¦2Æ   Æ2¦¦¦¿eë No¦ZÆ   N¦¦ÆÆ¦¦N2¦¿ÕÆN¦¦¦NÕ     \n",
      "N¦¦¦ëÆÕe2ëÆ Õo¦ZÆ      ë¦¿ÆÆo¦¦¦¿ëÆ ÕÆÕ¦¦¦Æe¦2Æ    Õ¦oÆe¦¦¦¦ëÆ   Æ¿¦¦¦¦Zë  \n",
      "Z¦¦¦¦¦¦¦¦¦oN2¦oÆ       n¦oN  NÆN2¦¦e   n¦2Æn¦ëÕ   N¦¦NÆn¦o¦oÆ      ÆÆn¦¦ZÆ \n",
      "ÆÆÆÆÆÆNN¿¦ÕÆn¦oÆ       o¦ZÆ     ë¦oÆ  ë¦nÆNo¦N   Æ¿¦¿Æ o¦Æo¦Õ       Õo¦¦NÆ \n",
      "      Æ¿¦ëN 2¦¦¿eZZeNÆÆo¦ÕÆ   Õ¿¿ÕÆ Æ¿¦ZÆ  e¦nÆÆZ¦¦nÆ Æ¿eÆN¿oÆ     Õ¿¦¿ÆÆ  \n",
      "    Õë¦¿ÆÕ  Æo¦¦¦¦¿oNÆÆ2¦Æ ÆÕe¿NÆ  Õ¦¿Æë   Æ¿¦¦¦¦¿NÆ  ÆNÆÆ Æ2ÆÆ  ëo¦¿ÕÆ    \n",
      "  N2¦¿ëÆ     ÆÆÆÆÆÆÆ   ÕZÆ NÆÆÆ  ÆÕÆÆÆ      ÆÕZëÆÆ    ÆÆN   ÆNNÆÆÆnNÆN     \n",
      "ÆNooÆÆ                 ÆÆÆ      NÆ                            Æ ÆÆN        \n",
      "ÆÆÆÆ                                                                       \n",
      " \n",
      "\n",
      "Welcome to Rock, Paper, Scissors! Please select your game options below.\n"
     ]
    },
    {
     "ename": "KeyboardInterrupt",
     "evalue": "Interrupted by user",
     "output_type": "error",
     "traceback": [
      "\u001b[31m---------------------------------------------------------------------------\u001b[39m",
      "\u001b[31mKeyboardInterrupt\u001b[39m                         Traceback (most recent call last)",
      "\u001b[36mCell\u001b[39m\u001b[36m \u001b[39m\u001b[32mIn[2]\u001b[39m\u001b[32m, line 9\u001b[39m\n\u001b[32m      6\u001b[39m continuePlaying = \u001b[38;5;28;01mTrue\u001b[39;00m\n\u001b[32m      8\u001b[39m \u001b[38;5;28;01mwhile\u001b[39;00m continuePlaying:\n\u001b[32m----> \u001b[39m\u001b[32m9\u001b[39m     numTournaments, numRounds, difficulty = \u001b[43mmenu\u001b[49m\u001b[43m(\u001b[49m\u001b[43m)\u001b[49m\n\u001b[32m     10\u001b[39m     continuePlaying = playSeries(numTournaments, numRounds, difficulty, clear_output)\n",
      "\u001b[36mFile \u001b[39m\u001b[32mc:\\Users\\Alexander\\Documents\\GitHub\\rock-paper-scissors\\menu.py:60\u001b[39m, in \u001b[36mmenu\u001b[39m\u001b[34m()\u001b[39m\n\u001b[32m     57\u001b[39m \u001b[38;5;28mprint\u001b[39m(menuArt, \u001b[33m\"\u001b[39m\u001b[38;5;130;01m\\n\u001b[39;00m\u001b[33m\"\u001b[39m)\n\u001b[32m     58\u001b[39m \u001b[38;5;28mprint\u001b[39m(\u001b[33m\"\u001b[39m\u001b[33mWelcome to Rock, Paper, Scissors! Please select your game options below.\u001b[39m\u001b[33m\"\u001b[39m)\n\u001b[32m---> \u001b[39m\u001b[32m60\u001b[39m rawDifficulty = \u001b[43m_getValidInput\u001b[49m\u001b[43m(\u001b[49m\n\u001b[32m     61\u001b[39m \u001b[43m    \u001b[49m\u001b[33;43m\"\u001b[39;49m\u001b[38;5;130;43;01m\\n\u001b[39;49;00m\u001b[33;43mWhich AI difficulty would you like to play with? Indicate your choice by typing the number next to the option.\u001b[39;49m\u001b[38;5;130;43;01m\\n\u001b[39;49;00m\u001b[33;43m(1) Random AI\u001b[39;49m\u001b[38;5;130;43;01m\\n\u001b[39;49;00m\u001b[33;43m(2) Counter AI\u001b[39;49m\u001b[38;5;130;43;01m\\n\u001b[39;49;00m\u001b[33;43m(3) Pattern AI\u001b[39;49m\u001b[38;5;130;43;01m\\n\u001b[39;49;00m\u001b[38;5;130;43;01m\\n\u001b[39;49;00m\u001b[33;43mYour choice: \u001b[39;49m\u001b[33;43m\"\u001b[39;49m\u001b[43m,\u001b[49m\n\u001b[32m     62\u001b[39m \u001b[43m    \u001b[49m\u001b[38;5;28;43;01mlambda\u001b[39;49;00m\u001b[43m \u001b[49m\u001b[43mx\u001b[49m\u001b[43m:\u001b[49m\u001b[43m \u001b[49m\u001b[43mx\u001b[49m\u001b[43m \u001b[49m\u001b[38;5;129;43;01min\u001b[39;49;00m\u001b[43m \u001b[49m\u001b[43m[\u001b[49m\u001b[33;43m\"\u001b[39;49m\u001b[33;43m1\u001b[39;49m\u001b[33;43m\"\u001b[39;49m\u001b[43m,\u001b[49m\u001b[43m \u001b[49m\u001b[33;43m\"\u001b[39;49m\u001b[33;43m2\u001b[39;49m\u001b[33;43m\"\u001b[39;49m\u001b[43m,\u001b[49m\u001b[43m \u001b[49m\u001b[33;43m\"\u001b[39;49m\u001b[33;43m3\u001b[39;49m\u001b[33;43m\"\u001b[39;49m\u001b[43m]\u001b[49m\u001b[43m,\u001b[49m\n\u001b[32m     63\u001b[39m \u001b[43m\u001b[49m\u001b[43m)\u001b[49m\n\u001b[32m     64\u001b[39m \u001b[38;5;28;01mif\u001b[39;00m rawDifficulty == \u001b[33m\"\u001b[39m\u001b[33m1\u001b[39m\u001b[33m\"\u001b[39m:\n\u001b[32m     65\u001b[39m     difficulty = \u001b[33m\"\u001b[39m\u001b[33mrandom\u001b[39m\u001b[33m\"\u001b[39m\n",
      "\u001b[36mFile \u001b[39m\u001b[32mc:\\Users\\Alexander\\Documents\\GitHub\\rock-paper-scissors\\menu.py:45\u001b[39m, in \u001b[36m_getValidInput\u001b[39m\u001b[34m(inputMessage, isValidConditional)\u001b[39m\n\u001b[32m     43\u001b[39m \u001b[38;5;250m\u001b[39m\u001b[33;03m\"\"\"Gets an input from the user based on the given input message. Checks if it's valid according to the provided conditional; if it's valid, return the value, if it's not valid, ask the user to reenter the input.\"\"\"\u001b[39;00m\n\u001b[32m     44\u001b[39m isValidInput = \u001b[38;5;28;01mFalse\u001b[39;00m\n\u001b[32m---> \u001b[39m\u001b[32m45\u001b[39m inputValue = \u001b[38;5;28;43minput\u001b[39;49m\u001b[43m(\u001b[49m\u001b[43minputMessage\u001b[49m\u001b[43m)\u001b[49m.strip().lower()\n\u001b[32m     46\u001b[39m \u001b[38;5;28;01mwhile\u001b[39;00m \u001b[38;5;129;01mnot\u001b[39;00m isValidInput:\n\u001b[32m     47\u001b[39m     \u001b[38;5;28;01mif\u001b[39;00m isValidConditional(inputValue):\n",
      "\u001b[36mFile \u001b[39m\u001b[32m~\\AppData\\Roaming\\Python\\Python313\\site-packages\\ipykernel\\kernelbase.py:1473\u001b[39m, in \u001b[36mKernel.raw_input\u001b[39m\u001b[34m(self, prompt)\u001b[39m\n\u001b[32m   1471\u001b[39m     msg = \u001b[33m\"\u001b[39m\u001b[33mraw_input was called, but this frontend does not support input requests.\u001b[39m\u001b[33m\"\u001b[39m\n\u001b[32m   1472\u001b[39m     \u001b[38;5;28;01mraise\u001b[39;00m StdinNotImplementedError(msg)\n\u001b[32m-> \u001b[39m\u001b[32m1473\u001b[39m \u001b[38;5;28;01mreturn\u001b[39;00m \u001b[38;5;28;43mself\u001b[39;49m\u001b[43m.\u001b[49m\u001b[43m_input_request\u001b[49m\u001b[43m(\u001b[49m\n\u001b[32m   1474\u001b[39m \u001b[43m    \u001b[49m\u001b[38;5;28;43mstr\u001b[39;49m\u001b[43m(\u001b[49m\u001b[43mprompt\u001b[49m\u001b[43m)\u001b[49m\u001b[43m,\u001b[49m\n\u001b[32m   1475\u001b[39m \u001b[43m    \u001b[49m\u001b[38;5;28;43mself\u001b[39;49m\u001b[43m.\u001b[49m\u001b[43m_shell_parent_ident\u001b[49m\u001b[43m.\u001b[49m\u001b[43mget\u001b[49m\u001b[43m(\u001b[49m\u001b[43m)\u001b[49m\u001b[43m,\u001b[49m\n\u001b[32m   1476\u001b[39m \u001b[43m    \u001b[49m\u001b[38;5;28;43mself\u001b[39;49m\u001b[43m.\u001b[49m\u001b[43mget_parent\u001b[49m\u001b[43m(\u001b[49m\u001b[33;43m\"\u001b[39;49m\u001b[33;43mshell\u001b[39;49m\u001b[33;43m\"\u001b[39;49m\u001b[43m)\u001b[49m\u001b[43m,\u001b[49m\n\u001b[32m   1477\u001b[39m \u001b[43m    \u001b[49m\u001b[43mpassword\u001b[49m\u001b[43m=\u001b[49m\u001b[38;5;28;43;01mFalse\u001b[39;49;00m\u001b[43m,\u001b[49m\n\u001b[32m   1478\u001b[39m \u001b[43m\u001b[49m\u001b[43m)\u001b[49m\n",
      "\u001b[36mFile \u001b[39m\u001b[32m~\\AppData\\Roaming\\Python\\Python313\\site-packages\\ipykernel\\kernelbase.py:1518\u001b[39m, in \u001b[36mKernel._input_request\u001b[39m\u001b[34m(self, prompt, ident, parent, password)\u001b[39m\n\u001b[32m   1515\u001b[39m \u001b[38;5;28;01mexcept\u001b[39;00m \u001b[38;5;167;01mKeyboardInterrupt\u001b[39;00m:\n\u001b[32m   1516\u001b[39m     \u001b[38;5;66;03m# re-raise KeyboardInterrupt, to truncate traceback\u001b[39;00m\n\u001b[32m   1517\u001b[39m     msg = \u001b[33m\"\u001b[39m\u001b[33mInterrupted by user\u001b[39m\u001b[33m\"\u001b[39m\n\u001b[32m-> \u001b[39m\u001b[32m1518\u001b[39m     \u001b[38;5;28;01mraise\u001b[39;00m \u001b[38;5;167;01mKeyboardInterrupt\u001b[39;00m(msg) \u001b[38;5;28;01mfrom\u001b[39;00m\u001b[38;5;250m \u001b[39m\u001b[38;5;28;01mNone\u001b[39;00m\n\u001b[32m   1519\u001b[39m \u001b[38;5;28;01mexcept\u001b[39;00m \u001b[38;5;167;01mException\u001b[39;00m:\n\u001b[32m   1520\u001b[39m     \u001b[38;5;28mself\u001b[39m.log.warning(\u001b[33m\"\u001b[39m\u001b[33mInvalid Message:\u001b[39m\u001b[33m\"\u001b[39m, exc_info=\u001b[38;5;28;01mTrue\u001b[39;00m)\n",
      "\u001b[31mKeyboardInterrupt\u001b[39m: Interrupted by user"
     ]
    }
   ],
   "source": [
    "from IPython.display import clear_output\n",
    "\n",
    "from menu import menu\n",
    "from tournamentSystem import playSeries\n",
    "\n",
    "continuePlaying = True\n",
    "\n",
    "while continuePlaying:\n",
    "    numTournaments, numRounds, difficulty = menu()\n",
    "    continuePlaying = playSeries(numTournaments, numRounds, difficulty, clear_output)\n"
   ]
  }
 ],
 "metadata": {
  "kernelspec": {
   "display_name": "Python 3",
   "language": "python",
   "name": "python3"
  },
  "language_info": {
   "codemirror_mode": {
    "name": "ipython",
    "version": 3
   },
   "file_extension": ".py",
   "mimetype": "text/x-python",
   "name": "python",
   "nbconvert_exporter": "python",
   "pygments_lexer": "ipython3",
   "version": "3.13.7"
  }
 },
 "nbformat": 4,
 "nbformat_minor": 5
}
